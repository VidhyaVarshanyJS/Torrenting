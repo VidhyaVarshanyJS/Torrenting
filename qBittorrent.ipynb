{
  "nbformat": 4,
  "nbformat_minor": 0,
  "metadata": {
    "colab": {
      "name": "qBittorrent.ipynb",
      "private_outputs": true,
      "provenance": [],
      "collapsed_sections": []
    },
    "kernelspec": {
      "name": "python3",
      "display_name": "Python 3"
    },
    "language_info": {
      "name": "python"
    }
  },
  "cells": [
    {
      "cell_type": "code",
      "source": [
        "# https://rentry.org/torrentcolab"
      ],
      "metadata": {
        "id": "7byr2y9vWG7M"
      },
      "execution_count": null,
      "outputs": []
    },
    {
      "cell_type": "code",
      "metadata": {
        "id": "CpW7Op5-56lJ",
        "cellView": "form"
      },
      "source": [
        "#@title **1 - INITIATION**\n",
        "\n",
        "from google.colab import drive, output\n",
        "import os\n",
        "\n",
        "print('----- Mount Drive -----')\n",
        "drive._mount('/content/drive')\n",
        "print('----- Installing Qbittorrent -----')\n",
        "if not os.path.isfile('/usr/bin/qbittorrent-nox'):\n",
        "    !apt install qbittorrent-nox\n",
        "output.clear()\n",
        "print('----- Done -----')"
      ],
      "execution_count": null,
      "outputs": []
    },
    {
      "cell_type": "code",
      "metadata": {
        "id": "cFf4qzDh_YAM",
        "cellView": "form"
      },
      "source": [
        "#@title **2 - START QBITTORENT**\n",
        "SAVE_PATH = '/content/drive/MyDrive' #@param {type:\"string\"}\n",
        "#@markdown > *Note: Don't terminate the colab right after you're done torrenting. It takes time to write to GDrive*\n",
        "\n",
        "if not os.path.isdir(SAVE_PATH):\n",
        "    print('Save path invalid')\n",
        "else:\n",
        "    !mkdir -p -m 666 /{content/qBittorrent,root/{.qBittorrent_temp,.config/qBittorrent}} && curl -s https://pastebin.com/raw/zn6HBgHz -o /root/.config/qBittorrent/qBittorrent.conf\n",
        "    with open('/root/.config/qBittorrent/qBittorrent.conf', 'r') as f:\n",
        "        content = f.read().replace('%SavePath%', SAVE_PATH)\n",
        "    with open('/root/.config/qBittorrent/qBittorrent.conf', 'w') as f:\n",
        "        f.write(content)\n",
        "    !qbittorrent-nox -d --webui-port=4444\n",
        "    print('----- Open this link to open QBittorrent -----')\n",
        "    print(output.eval_js(\"google.colab.kernel.proxyPort(4444)\"))"
      ],
      "execution_count": null,
      "outputs": []
    },
    {
      "cell_type": "code",
      "metadata": {
        "cellView": "form",
        "id": "LtyKecMIDL0c"
      },
      "source": [
        "#@title **3 - INFINITY RUN**\n",
        "while True:pass\n"
      ],
      "execution_count": null,
      "outputs": []
    }
  ]
}